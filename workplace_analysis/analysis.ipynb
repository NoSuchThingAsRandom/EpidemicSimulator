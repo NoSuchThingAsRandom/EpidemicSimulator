{
 "cells": [
  {
   "cell_type": "code",
   "execution_count": 31,
   "metadata": {
    "collapsed": true
   },
   "outputs": [],
   "source": [
    "import pandas\n",
    "df =pandas.read_csv(\"data(1).csv\")"
   ]
  },
  {
   "cell_type": "code",
   "execution_count": 32,
   "outputs": [
    {
     "data": {
      "text/plain": "   DATE  DATE_NAME  DATE_CODE DATE_TYPE  DATE_TYPECODE  DATE_SORTORDER  \\\n0  2011       2011       2011      date              0               0   \n1  2011       2011       2011      date              0               0   \n2  2011       2011       2011      date              0               0   \n3  2011       2011       2011      date              0               0   \n4  2011       2011       2011      date              0               0   \n5  2011       2011       2011      date              0               0   \n6  2011       2011       2011      date              0               0   \n7  2011       2011       2011      date              0               0   \n8  2011       2011       2011      date              0               0   \n9  2011       2011       2011      date              0               0   \n\n   CURRENTLY_RESIDING_IN CURRENTLY_RESIDING_IN_NAME  \\\n0             1254162148                  E00067299   \n1             1254162148                  E00067299   \n2             1254162148                  E00067299   \n3             1254162148                  E00067299   \n4             1254162148                  E00067299   \n5             1254162148                  E00067299   \n6             1254162148                  E00067299   \n7             1254162148                  E00067299   \n8             1254162148                  E00067299   \n9             1254162148                  E00067299   \n\n  CURRENTLY_RESIDING_IN_CODE CURRENTLY_RESIDING_IN_TYPE  ...  MEASURES  \\\n0                  E00067299          2011 output areas  ...     20100   \n1                  E00067299          2011 output areas  ...     20100   \n2                  E00067299          2011 output areas  ...     20100   \n3                  E00067299          2011 output areas  ...     20100   \n4                  E00067299          2011 output areas  ...     20100   \n5                  E00067299          2011 output areas  ...     20100   \n6                  E00067299          2011 output areas  ...     20100   \n7                  E00067299          2011 output areas  ...     20100   \n8                  E00067299          2011 output areas  ...     20100   \n9                  E00067299          2011 output areas  ...     20100   \n\n   MEASURES_NAME  OBS_VALUE OBS_STATUS OBS_STATUS_NAME OBS_CONF  \\\n0          Value          2          A    Normal Value        F   \n1          Value          0          A    Normal Value        F   \n2          Value          0          A    Normal Value        F   \n3          Value          0          A    Normal Value        F   \n4          Value          0          A    Normal Value        F   \n5          Value          0          A    Normal Value        F   \n6          Value          1          A    Normal Value        F   \n7          Value          0          A    Normal Value        F   \n8          Value          0          A    Normal Value        F   \n9          Value          0          A    Normal Value        F   \n\n                 OBS_CONF_NAME  \\\n0  Free (free for publication)   \n1  Free (free for publication)   \n2  Free (free for publication)   \n3  Free (free for publication)   \n4  Free (free for publication)   \n5  Free (free for publication)   \n6  Free (free for publication)   \n7  Free (free for publication)   \n8  Free (free for publication)   \n9  Free (free for publication)   \n\n                                               URN  RECORD_OFFSET RECORD_COUNT  \n0  Nm-1228d1d32176e0d1254162148d1254162148d0d20100              0       405769  \n1  Nm-1228d1d32176e0d1254162148d1254162149d0d20100              1       405769  \n2  Nm-1228d1d32176e0d1254162148d1254162150d0d20100              2       405769  \n3  Nm-1228d1d32176e0d1254162148d1254162151d0d20100              3       405769  \n4  Nm-1228d1d32176e0d1254162148d1254162152d0d20100              4       405769  \n5  Nm-1228d1d32176e0d1254162148d1254162153d0d20100              5       405769  \n6  Nm-1228d1d32176e0d1254162148d1254162154d0d20100              6       405769  \n7  Nm-1228d1d32176e0d1254162148d1254162155d0d20100              7       405769  \n8  Nm-1228d1d32176e0d1254162148d1254162156d0d20100              8       405769  \n9  Nm-1228d1d32176e0d1254162148d1254162157d0d20100              9       405769  \n\n[10 rows x 28 columns]",
      "text/html": "<div>\n<style scoped>\n    .dataframe tbody tr th:only-of-type {\n        vertical-align: middle;\n    }\n\n    .dataframe tbody tr th {\n        vertical-align: top;\n    }\n\n    .dataframe thead th {\n        text-align: right;\n    }\n</style>\n<table border=\"1\" class=\"dataframe\">\n  <thead>\n    <tr style=\"text-align: right;\">\n      <th></th>\n      <th>DATE</th>\n      <th>DATE_NAME</th>\n      <th>DATE_CODE</th>\n      <th>DATE_TYPE</th>\n      <th>DATE_TYPECODE</th>\n      <th>DATE_SORTORDER</th>\n      <th>CURRENTLY_RESIDING_IN</th>\n      <th>CURRENTLY_RESIDING_IN_NAME</th>\n      <th>CURRENTLY_RESIDING_IN_CODE</th>\n      <th>CURRENTLY_RESIDING_IN_TYPE</th>\n      <th>...</th>\n      <th>MEASURES</th>\n      <th>MEASURES_NAME</th>\n      <th>OBS_VALUE</th>\n      <th>OBS_STATUS</th>\n      <th>OBS_STATUS_NAME</th>\n      <th>OBS_CONF</th>\n      <th>OBS_CONF_NAME</th>\n      <th>URN</th>\n      <th>RECORD_OFFSET</th>\n      <th>RECORD_COUNT</th>\n    </tr>\n  </thead>\n  <tbody>\n    <tr>\n      <th>0</th>\n      <td>2011</td>\n      <td>2011</td>\n      <td>2011</td>\n      <td>date</td>\n      <td>0</td>\n      <td>0</td>\n      <td>1254162148</td>\n      <td>E00067299</td>\n      <td>E00067299</td>\n      <td>2011 output areas</td>\n      <td>...</td>\n      <td>20100</td>\n      <td>Value</td>\n      <td>2</td>\n      <td>A</td>\n      <td>Normal Value</td>\n      <td>F</td>\n      <td>Free (free for publication)</td>\n      <td>Nm-1228d1d32176e0d1254162148d1254162148d0d20100</td>\n      <td>0</td>\n      <td>405769</td>\n    </tr>\n    <tr>\n      <th>1</th>\n      <td>2011</td>\n      <td>2011</td>\n      <td>2011</td>\n      <td>date</td>\n      <td>0</td>\n      <td>0</td>\n      <td>1254162148</td>\n      <td>E00067299</td>\n      <td>E00067299</td>\n      <td>2011 output areas</td>\n      <td>...</td>\n      <td>20100</td>\n      <td>Value</td>\n      <td>0</td>\n      <td>A</td>\n      <td>Normal Value</td>\n      <td>F</td>\n      <td>Free (free for publication)</td>\n      <td>Nm-1228d1d32176e0d1254162148d1254162149d0d20100</td>\n      <td>1</td>\n      <td>405769</td>\n    </tr>\n    <tr>\n      <th>2</th>\n      <td>2011</td>\n      <td>2011</td>\n      <td>2011</td>\n      <td>date</td>\n      <td>0</td>\n      <td>0</td>\n      <td>1254162148</td>\n      <td>E00067299</td>\n      <td>E00067299</td>\n      <td>2011 output areas</td>\n      <td>...</td>\n      <td>20100</td>\n      <td>Value</td>\n      <td>0</td>\n      <td>A</td>\n      <td>Normal Value</td>\n      <td>F</td>\n      <td>Free (free for publication)</td>\n      <td>Nm-1228d1d32176e0d1254162148d1254162150d0d20100</td>\n      <td>2</td>\n      <td>405769</td>\n    </tr>\n    <tr>\n      <th>3</th>\n      <td>2011</td>\n      <td>2011</td>\n      <td>2011</td>\n      <td>date</td>\n      <td>0</td>\n      <td>0</td>\n      <td>1254162148</td>\n      <td>E00067299</td>\n      <td>E00067299</td>\n      <td>2011 output areas</td>\n      <td>...</td>\n      <td>20100</td>\n      <td>Value</td>\n      <td>0</td>\n      <td>A</td>\n      <td>Normal Value</td>\n      <td>F</td>\n      <td>Free (free for publication)</td>\n      <td>Nm-1228d1d32176e0d1254162148d1254162151d0d20100</td>\n      <td>3</td>\n      <td>405769</td>\n    </tr>\n    <tr>\n      <th>4</th>\n      <td>2011</td>\n      <td>2011</td>\n      <td>2011</td>\n      <td>date</td>\n      <td>0</td>\n      <td>0</td>\n      <td>1254162148</td>\n      <td>E00067299</td>\n      <td>E00067299</td>\n      <td>2011 output areas</td>\n      <td>...</td>\n      <td>20100</td>\n      <td>Value</td>\n      <td>0</td>\n      <td>A</td>\n      <td>Normal Value</td>\n      <td>F</td>\n      <td>Free (free for publication)</td>\n      <td>Nm-1228d1d32176e0d1254162148d1254162152d0d20100</td>\n      <td>4</td>\n      <td>405769</td>\n    </tr>\n    <tr>\n      <th>5</th>\n      <td>2011</td>\n      <td>2011</td>\n      <td>2011</td>\n      <td>date</td>\n      <td>0</td>\n      <td>0</td>\n      <td>1254162148</td>\n      <td>E00067299</td>\n      <td>E00067299</td>\n      <td>2011 output areas</td>\n      <td>...</td>\n      <td>20100</td>\n      <td>Value</td>\n      <td>0</td>\n      <td>A</td>\n      <td>Normal Value</td>\n      <td>F</td>\n      <td>Free (free for publication)</td>\n      <td>Nm-1228d1d32176e0d1254162148d1254162153d0d20100</td>\n      <td>5</td>\n      <td>405769</td>\n    </tr>\n    <tr>\n      <th>6</th>\n      <td>2011</td>\n      <td>2011</td>\n      <td>2011</td>\n      <td>date</td>\n      <td>0</td>\n      <td>0</td>\n      <td>1254162148</td>\n      <td>E00067299</td>\n      <td>E00067299</td>\n      <td>2011 output areas</td>\n      <td>...</td>\n      <td>20100</td>\n      <td>Value</td>\n      <td>1</td>\n      <td>A</td>\n      <td>Normal Value</td>\n      <td>F</td>\n      <td>Free (free for publication)</td>\n      <td>Nm-1228d1d32176e0d1254162148d1254162154d0d20100</td>\n      <td>6</td>\n      <td>405769</td>\n    </tr>\n    <tr>\n      <th>7</th>\n      <td>2011</td>\n      <td>2011</td>\n      <td>2011</td>\n      <td>date</td>\n      <td>0</td>\n      <td>0</td>\n      <td>1254162148</td>\n      <td>E00067299</td>\n      <td>E00067299</td>\n      <td>2011 output areas</td>\n      <td>...</td>\n      <td>20100</td>\n      <td>Value</td>\n      <td>0</td>\n      <td>A</td>\n      <td>Normal Value</td>\n      <td>F</td>\n      <td>Free (free for publication)</td>\n      <td>Nm-1228d1d32176e0d1254162148d1254162155d0d20100</td>\n      <td>7</td>\n      <td>405769</td>\n    </tr>\n    <tr>\n      <th>8</th>\n      <td>2011</td>\n      <td>2011</td>\n      <td>2011</td>\n      <td>date</td>\n      <td>0</td>\n      <td>0</td>\n      <td>1254162148</td>\n      <td>E00067299</td>\n      <td>E00067299</td>\n      <td>2011 output areas</td>\n      <td>...</td>\n      <td>20100</td>\n      <td>Value</td>\n      <td>0</td>\n      <td>A</td>\n      <td>Normal Value</td>\n      <td>F</td>\n      <td>Free (free for publication)</td>\n      <td>Nm-1228d1d32176e0d1254162148d1254162156d0d20100</td>\n      <td>8</td>\n      <td>405769</td>\n    </tr>\n    <tr>\n      <th>9</th>\n      <td>2011</td>\n      <td>2011</td>\n      <td>2011</td>\n      <td>date</td>\n      <td>0</td>\n      <td>0</td>\n      <td>1254162148</td>\n      <td>E00067299</td>\n      <td>E00067299</td>\n      <td>2011 output areas</td>\n      <td>...</td>\n      <td>20100</td>\n      <td>Value</td>\n      <td>0</td>\n      <td>A</td>\n      <td>Normal Value</td>\n      <td>F</td>\n      <td>Free (free for publication)</td>\n      <td>Nm-1228d1d32176e0d1254162148d1254162157d0d20100</td>\n      <td>9</td>\n      <td>405769</td>\n    </tr>\n  </tbody>\n</table>\n<p>10 rows × 28 columns</p>\n</div>"
     },
     "execution_count": 32,
     "metadata": {},
     "output_type": "execute_result"
    }
   ],
   "source": [
    "df.head(10)"
   ],
   "metadata": {
    "collapsed": false,
    "pycharm": {
     "name": "#%%\n"
    }
   }
  },
  {
   "cell_type": "code",
   "execution_count": 33,
   "outputs": [
    {
     "data": {
      "text/plain": "Index(['DATE', 'DATE_NAME', 'DATE_CODE', 'DATE_TYPE', 'DATE_TYPECODE',\n       'DATE_SORTORDER', 'CURRENTLY_RESIDING_IN', 'CURRENTLY_RESIDING_IN_NAME',\n       'CURRENTLY_RESIDING_IN_CODE', 'CURRENTLY_RESIDING_IN_TYPE',\n       'CURRENTLY_RESIDING_IN_TYPECODE', 'CURRENTLY_RESIDING_IN_SORTORDER',\n       'PLACE_OF_WORK', 'PLACE_OF_WORK_NAME', 'PLACE_OF_WORK_CODE',\n       'PLACE_OF_WORK_TYPE', 'PLACE_OF_WORK_TYPECODE',\n       'PLACE_OF_WORK_SORTORDER', 'MEASURES', 'MEASURES_NAME', 'OBS_VALUE',\n       'OBS_STATUS', 'OBS_STATUS_NAME', 'OBS_CONF', 'OBS_CONF_NAME', 'URN',\n       'RECORD_OFFSET', 'RECORD_COUNT'],\n      dtype='object')"
     },
     "execution_count": 33,
     "metadata": {},
     "output_type": "execute_result"
    }
   ],
   "source": [
    "df.columns"
   ],
   "metadata": {
    "collapsed": false,
    "pycharm": {
     "name": "#%%\n"
    }
   }
  },
  {
   "cell_type": "code",
   "execution_count": 34,
   "outputs": [],
   "source": [
    "df =df.drop(columns=['DATE', 'DATE_NAME', 'DATE_CODE', 'DATE_TYPE', 'DATE_TYPECODE',\n",
    "       'DATE_SORTORDER', 'CURRENTLY_RESIDING_IN', 'CURRENTLY_RESIDING_IN_NAME','CURRENTLY_RESIDING_IN_TYPE',\n",
    "       'CURRENTLY_RESIDING_IN_TYPECODE', 'CURRENTLY_RESIDING_IN_SORTORDER',\n",
    "       'PLACE_OF_WORK', 'PLACE_OF_WORK_NAME',\n",
    "       'PLACE_OF_WORK_TYPE', 'PLACE_OF_WORK_TYPECODE',\n",
    "       'PLACE_OF_WORK_SORTORDER', 'MEASURES', 'MEASURES_NAME',\n",
    "       'OBS_STATUS', 'OBS_STATUS_NAME', 'OBS_CONF', 'OBS_CONF_NAME', 'URN',\n",
    "       'RECORD_OFFSET'])"
   ],
   "metadata": {
    "collapsed": false,
    "pycharm": {
     "name": "#%%\n"
    }
   }
  },
  {
   "cell_type": "code",
   "execution_count": 35,
   "outputs": [
    {
     "data": {
      "text/plain": "  CURRENTLY_RESIDING_IN_CODE PLACE_OF_WORK_CODE  OBS_VALUE  RECORD_COUNT\n0                  E00067299          E00067299          2        405769\n1                  E00067299          E00067300          0        405769\n2                  E00067299          E00067301          0        405769\n3                  E00067299          E00067302          0        405769\n4                  E00067299          E00067303          0        405769\n5                  E00067299          E00067304          0        405769\n6                  E00067299          E00067305          1        405769\n7                  E00067299          E00067306          0        405769\n8                  E00067299          E00067307          0        405769\n9                  E00067299          E00067308          0        405769",
      "text/html": "<div>\n<style scoped>\n    .dataframe tbody tr th:only-of-type {\n        vertical-align: middle;\n    }\n\n    .dataframe tbody tr th {\n        vertical-align: top;\n    }\n\n    .dataframe thead th {\n        text-align: right;\n    }\n</style>\n<table border=\"1\" class=\"dataframe\">\n  <thead>\n    <tr style=\"text-align: right;\">\n      <th></th>\n      <th>CURRENTLY_RESIDING_IN_CODE</th>\n      <th>PLACE_OF_WORK_CODE</th>\n      <th>OBS_VALUE</th>\n      <th>RECORD_COUNT</th>\n    </tr>\n  </thead>\n  <tbody>\n    <tr>\n      <th>0</th>\n      <td>E00067299</td>\n      <td>E00067299</td>\n      <td>2</td>\n      <td>405769</td>\n    </tr>\n    <tr>\n      <th>1</th>\n      <td>E00067299</td>\n      <td>E00067300</td>\n      <td>0</td>\n      <td>405769</td>\n    </tr>\n    <tr>\n      <th>2</th>\n      <td>E00067299</td>\n      <td>E00067301</td>\n      <td>0</td>\n      <td>405769</td>\n    </tr>\n    <tr>\n      <th>3</th>\n      <td>E00067299</td>\n      <td>E00067302</td>\n      <td>0</td>\n      <td>405769</td>\n    </tr>\n    <tr>\n      <th>4</th>\n      <td>E00067299</td>\n      <td>E00067303</td>\n      <td>0</td>\n      <td>405769</td>\n    </tr>\n    <tr>\n      <th>5</th>\n      <td>E00067299</td>\n      <td>E00067304</td>\n      <td>0</td>\n      <td>405769</td>\n    </tr>\n    <tr>\n      <th>6</th>\n      <td>E00067299</td>\n      <td>E00067305</td>\n      <td>1</td>\n      <td>405769</td>\n    </tr>\n    <tr>\n      <th>7</th>\n      <td>E00067299</td>\n      <td>E00067306</td>\n      <td>0</td>\n      <td>405769</td>\n    </tr>\n    <tr>\n      <th>8</th>\n      <td>E00067299</td>\n      <td>E00067307</td>\n      <td>0</td>\n      <td>405769</td>\n    </tr>\n    <tr>\n      <th>9</th>\n      <td>E00067299</td>\n      <td>E00067308</td>\n      <td>0</td>\n      <td>405769</td>\n    </tr>\n  </tbody>\n</table>\n</div>"
     },
     "execution_count": 35,
     "metadata": {},
     "output_type": "execute_result"
    }
   ],
   "source": [
    "df.head(10)"
   ],
   "metadata": {
    "collapsed": false,
    "pycharm": {
     "name": "#%%\n"
    }
   }
  },
  {
   "cell_type": "code",
   "execution_count": 36,
   "outputs": [
    {
     "data": {
      "text/plain": "(405769, 4)"
     },
     "execution_count": 36,
     "metadata": {},
     "output_type": "execute_result"
    }
   ],
   "source": [
    "df.shape"
   ],
   "metadata": {
    "collapsed": false,
    "pycharm": {
     "name": "#%%\n"
    }
   }
  },
  {
   "cell_type": "code",
   "execution_count": 37,
   "outputs": [
    {
     "data": {
      "text/plain": "array([  2,   1,   4,   7,  10,   3,   5,   6,   8,   9,  14,  15,  11,\n        17,  13,  12,  19,  22,  18,  20,  24,  16,  25,  28,  29, 199,\n        31,  23,  26,  27,  21,  35,  37,  34,  76,  40,  42,  43])"
     },
     "execution_count": 37,
     "metadata": {},
     "output_type": "execute_result"
    }
   ],
   "source": [
    "df =df[df[\"OBS_VALUE\"]!=0]\n",
    "df[\"OBS_VALUE\"].unique()"
   ],
   "metadata": {
    "collapsed": false,
    "pycharm": {
     "name": "#%%\n"
    }
   }
  },
  {
   "cell_type": "code",
   "execution_count": 38,
   "outputs": [
    {
     "data": {
      "text/plain": "(31023, 4)"
     },
     "execution_count": 38,
     "metadata": {},
     "output_type": "execute_result"
    }
   ],
   "source": [
    "\n",
    "df.shape"
   ],
   "metadata": {
    "collapsed": false,
    "pycharm": {
     "name": "#%%\n"
    }
   }
  },
  {
   "cell_type": "code",
   "execution_count": 39,
   "outputs": [
    {
     "data": {
      "text/plain": "   CURRENTLY_RESIDING_IN_CODE PLACE_OF_WORK_CODE  OBS_VALUE  RECORD_COUNT\n0                   E00067299          E00067299          2        405769\n6                   E00067299          E00067305          1        405769\n22                  E00067299          E00067322          2        405769\n29                  E00067299          E00067331          1        405769\n32                  E00067299          E00067334          1        405769\n43                  E00067299          E00067346          1        405769\n70                  E00067299          E00067374          1        405769\n71                  E00067299          E00067375          1        405769\n80                  E00067299          E00067384          4        405769\n98                  E00067299          E00067402          7        405769",
      "text/html": "<div>\n<style scoped>\n    .dataframe tbody tr th:only-of-type {\n        vertical-align: middle;\n    }\n\n    .dataframe tbody tr th {\n        vertical-align: top;\n    }\n\n    .dataframe thead th {\n        text-align: right;\n    }\n</style>\n<table border=\"1\" class=\"dataframe\">\n  <thead>\n    <tr style=\"text-align: right;\">\n      <th></th>\n      <th>CURRENTLY_RESIDING_IN_CODE</th>\n      <th>PLACE_OF_WORK_CODE</th>\n      <th>OBS_VALUE</th>\n      <th>RECORD_COUNT</th>\n    </tr>\n  </thead>\n  <tbody>\n    <tr>\n      <th>0</th>\n      <td>E00067299</td>\n      <td>E00067299</td>\n      <td>2</td>\n      <td>405769</td>\n    </tr>\n    <tr>\n      <th>6</th>\n      <td>E00067299</td>\n      <td>E00067305</td>\n      <td>1</td>\n      <td>405769</td>\n    </tr>\n    <tr>\n      <th>22</th>\n      <td>E00067299</td>\n      <td>E00067322</td>\n      <td>2</td>\n      <td>405769</td>\n    </tr>\n    <tr>\n      <th>29</th>\n      <td>E00067299</td>\n      <td>E00067331</td>\n      <td>1</td>\n      <td>405769</td>\n    </tr>\n    <tr>\n      <th>32</th>\n      <td>E00067299</td>\n      <td>E00067334</td>\n      <td>1</td>\n      <td>405769</td>\n    </tr>\n    <tr>\n      <th>43</th>\n      <td>E00067299</td>\n      <td>E00067346</td>\n      <td>1</td>\n      <td>405769</td>\n    </tr>\n    <tr>\n      <th>70</th>\n      <td>E00067299</td>\n      <td>E00067374</td>\n      <td>1</td>\n      <td>405769</td>\n    </tr>\n    <tr>\n      <th>71</th>\n      <td>E00067299</td>\n      <td>E00067375</td>\n      <td>1</td>\n      <td>405769</td>\n    </tr>\n    <tr>\n      <th>80</th>\n      <td>E00067299</td>\n      <td>E00067384</td>\n      <td>4</td>\n      <td>405769</td>\n    </tr>\n    <tr>\n      <th>98</th>\n      <td>E00067299</td>\n      <td>E00067402</td>\n      <td>7</td>\n      <td>405769</td>\n    </tr>\n  </tbody>\n</table>\n</div>"
     },
     "execution_count": 39,
     "metadata": {},
     "output_type": "execute_result"
    }
   ],
   "source": [
    "df.head(10)"
   ],
   "metadata": {
    "collapsed": false,
    "pycharm": {
     "name": "#%%\n"
    }
   }
  },
  {
   "cell_type": "code",
   "execution_count": 41,
   "outputs": [
    {
     "data": {
      "text/plain": "count    637.000000\nmean      48.701727\nstd       10.341901\nmin       16.000000\n25%       42.000000\n50%       49.000000\n75%       55.000000\nmax       83.000000\nName: CURRENTLY_RESIDING_IN_CODE, dtype: float64"
     },
     "execution_count": 41,
     "metadata": {},
     "output_type": "execute_result"
    }
   ],
   "source": [
    "df[\"CURRENTLY_RESIDING_IN_CODE\"].value_counts().describe()"
   ],
   "metadata": {
    "collapsed": false,
    "pycharm": {
     "name": "#%%\n"
    }
   }
  },
  {
   "cell_type": "code",
   "execution_count": 44,
   "outputs": [],
   "source": [
    "df.to_csv(\"filtered_york_data.csv\",index=False)"
   ],
   "metadata": {
    "collapsed": false,
    "pycharm": {
     "name": "#%%\n"
    }
   }
  },
  {
   "cell_type": "code",
   "execution_count": 61,
   "outputs": [
    {
     "data": {
      "text/plain": "593"
     },
     "execution_count": 61,
     "metadata": {},
     "output_type": "execute_result"
    }
   ],
   "source": [
    "reside=set(df[\"CURRENTLY_RESIDING_IN_CODE\"].values)\n",
    "work=set(df[\"PLACE_OF_WORK_CODE\"].values)\n",
    "intersect=reside.intersection(work)\n",
    "len(intersect)"
   ],
   "metadata": {
    "collapsed": false,
    "pycharm": {
     "name": "#%%\n"
    }
   }
  },
  {
   "cell_type": "code",
   "execution_count": 57,
   "outputs": [
    {
     "ename": "ValueError",
     "evalue": "Length of values (593) does not match length of index (31023)",
     "output_type": "error",
     "traceback": [
      "\u001B[0;31m---------------------------------------------------------------------------\u001B[0m",
      "\u001B[0;31mValueError\u001B[0m                                Traceback (most recent call last)",
      "\u001B[0;32m/tmp/ipykernel_126184/4088146048.py\u001B[0m in \u001B[0;36m<module>\u001B[0;34m\u001B[0m\n\u001B[1;32m      1\u001B[0m \u001B[0;31m#df[\"PLACE_OF_WORK_CODE\"].value_counts()\u001B[0m\u001B[0;34m\u001B[0m\u001B[0;34m\u001B[0m\u001B[0m\n\u001B[0;32m----> 2\u001B[0;31m \u001B[0mdf\u001B[0m\u001B[0;34m[\u001B[0m\u001B[0;34m'INTERSECT'\u001B[0m\u001B[0;34m]\u001B[0m \u001B[0;34m=\u001B[0m \u001B[0;34m[\u001B[0m\u001B[0mlen\u001B[0m\u001B[0;34m(\u001B[0m\u001B[0mset\u001B[0m\u001B[0;34m(\u001B[0m\u001B[0ma\u001B[0m\u001B[0;34m)\u001B[0m\u001B[0;34m.\u001B[0m\u001B[0mintersection\u001B[0m\u001B[0;34m(\u001B[0m\u001B[0mb\u001B[0m\u001B[0;34m)\u001B[0m\u001B[0;34m)\u001B[0m \u001B[0;32mfor\u001B[0m \u001B[0ma\u001B[0m\u001B[0;34m,\u001B[0m \u001B[0mb\u001B[0m \u001B[0;32min\u001B[0m \u001B[0mzip\u001B[0m\u001B[0;34m(\u001B[0m\u001B[0mset\u001B[0m\u001B[0;34m(\u001B[0m\u001B[0mdf\u001B[0m\u001B[0;34m[\u001B[0m\u001B[0;34m\"CURRENTLY_RESIDING_IN_CODE\"\u001B[0m\u001B[0;34m]\u001B[0m\u001B[0;34m.\u001B[0m\u001B[0mvalues\u001B[0m\u001B[0;34m)\u001B[0m\u001B[0;34m,\u001B[0m \u001B[0mset\u001B[0m\u001B[0;34m(\u001B[0m\u001B[0mdf\u001B[0m\u001B[0;34m[\u001B[0m\u001B[0;34m\"PLACE_OF_WORK_CODE\"\u001B[0m\u001B[0;34m]\u001B[0m\u001B[0;34m.\u001B[0m\u001B[0mvalues\u001B[0m\u001B[0;34m)\u001B[0m\u001B[0;34m)\u001B[0m\u001B[0;34m]\u001B[0m\u001B[0;34m\u001B[0m\u001B[0;34m\u001B[0m\u001B[0m\n\u001B[0m\u001B[1;32m      3\u001B[0m \u001B[0mdf\u001B[0m\u001B[0;34m[\u001B[0m\u001B[0;34m'INTERSECT'\u001B[0m\u001B[0;34m]\u001B[0m\u001B[0;34m\u001B[0m\u001B[0;34m\u001B[0m\u001B[0m\n",
      "\u001B[0;32m/usr/lib/python3.10/site-packages/pandas/core/frame.py\u001B[0m in \u001B[0;36m__setitem__\u001B[0;34m(self, key, value)\u001B[0m\n\u001B[1;32m   3610\u001B[0m         \u001B[0;32melse\u001B[0m\u001B[0;34m:\u001B[0m\u001B[0;34m\u001B[0m\u001B[0;34m\u001B[0m\u001B[0m\n\u001B[1;32m   3611\u001B[0m             \u001B[0;31m# set column\u001B[0m\u001B[0;34m\u001B[0m\u001B[0;34m\u001B[0m\u001B[0m\n\u001B[0;32m-> 3612\u001B[0;31m             \u001B[0mself\u001B[0m\u001B[0;34m.\u001B[0m\u001B[0m_set_item\u001B[0m\u001B[0;34m(\u001B[0m\u001B[0mkey\u001B[0m\u001B[0;34m,\u001B[0m \u001B[0mvalue\u001B[0m\u001B[0;34m)\u001B[0m\u001B[0;34m\u001B[0m\u001B[0;34m\u001B[0m\u001B[0m\n\u001B[0m\u001B[1;32m   3613\u001B[0m \u001B[0;34m\u001B[0m\u001B[0m\n\u001B[1;32m   3614\u001B[0m     \u001B[0;32mdef\u001B[0m \u001B[0m_setitem_slice\u001B[0m\u001B[0;34m(\u001B[0m\u001B[0mself\u001B[0m\u001B[0;34m,\u001B[0m \u001B[0mkey\u001B[0m\u001B[0;34m:\u001B[0m \u001B[0mslice\u001B[0m\u001B[0;34m,\u001B[0m \u001B[0mvalue\u001B[0m\u001B[0;34m)\u001B[0m\u001B[0;34m:\u001B[0m\u001B[0;34m\u001B[0m\u001B[0;34m\u001B[0m\u001B[0m\n",
      "\u001B[0;32m/usr/lib/python3.10/site-packages/pandas/core/frame.py\u001B[0m in \u001B[0;36m_set_item\u001B[0;34m(self, key, value)\u001B[0m\n\u001B[1;32m   3782\u001B[0m         \u001B[0mensure\u001B[0m \u001B[0mhomogeneity\u001B[0m\u001B[0;34m.\u001B[0m\u001B[0;34m\u001B[0m\u001B[0;34m\u001B[0m\u001B[0m\n\u001B[1;32m   3783\u001B[0m         \"\"\"\n\u001B[0;32m-> 3784\u001B[0;31m         \u001B[0mvalue\u001B[0m \u001B[0;34m=\u001B[0m \u001B[0mself\u001B[0m\u001B[0;34m.\u001B[0m\u001B[0m_sanitize_column\u001B[0m\u001B[0;34m(\u001B[0m\u001B[0mvalue\u001B[0m\u001B[0;34m)\u001B[0m\u001B[0;34m\u001B[0m\u001B[0;34m\u001B[0m\u001B[0m\n\u001B[0m\u001B[1;32m   3785\u001B[0m \u001B[0;34m\u001B[0m\u001B[0m\n\u001B[1;32m   3786\u001B[0m         if (\n",
      "\u001B[0;32m/usr/lib/python3.10/site-packages/pandas/core/frame.py\u001B[0m in \u001B[0;36m_sanitize_column\u001B[0;34m(self, value)\u001B[0m\n\u001B[1;32m   4507\u001B[0m \u001B[0;34m\u001B[0m\u001B[0m\n\u001B[1;32m   4508\u001B[0m         \u001B[0;32mif\u001B[0m \u001B[0mis_list_like\u001B[0m\u001B[0;34m(\u001B[0m\u001B[0mvalue\u001B[0m\u001B[0;34m)\u001B[0m\u001B[0;34m:\u001B[0m\u001B[0;34m\u001B[0m\u001B[0;34m\u001B[0m\u001B[0m\n\u001B[0;32m-> 4509\u001B[0;31m             \u001B[0mcom\u001B[0m\u001B[0;34m.\u001B[0m\u001B[0mrequire_length_match\u001B[0m\u001B[0;34m(\u001B[0m\u001B[0mvalue\u001B[0m\u001B[0;34m,\u001B[0m \u001B[0mself\u001B[0m\u001B[0;34m.\u001B[0m\u001B[0mindex\u001B[0m\u001B[0;34m)\u001B[0m\u001B[0;34m\u001B[0m\u001B[0;34m\u001B[0m\u001B[0m\n\u001B[0m\u001B[1;32m   4510\u001B[0m         \u001B[0;32mreturn\u001B[0m \u001B[0msanitize_array\u001B[0m\u001B[0;34m(\u001B[0m\u001B[0mvalue\u001B[0m\u001B[0;34m,\u001B[0m \u001B[0mself\u001B[0m\u001B[0;34m.\u001B[0m\u001B[0mindex\u001B[0m\u001B[0;34m,\u001B[0m \u001B[0mcopy\u001B[0m\u001B[0;34m=\u001B[0m\u001B[0;32mTrue\u001B[0m\u001B[0;34m,\u001B[0m \u001B[0mallow_2d\u001B[0m\u001B[0;34m=\u001B[0m\u001B[0;32mTrue\u001B[0m\u001B[0;34m)\u001B[0m\u001B[0;34m\u001B[0m\u001B[0;34m\u001B[0m\u001B[0m\n\u001B[1;32m   4511\u001B[0m \u001B[0;34m\u001B[0m\u001B[0m\n",
      "\u001B[0;32m/usr/lib/python3.10/site-packages/pandas/core/common.py\u001B[0m in \u001B[0;36mrequire_length_match\u001B[0;34m(data, index)\u001B[0m\n\u001B[1;32m    529\u001B[0m     \"\"\"\n\u001B[1;32m    530\u001B[0m     \u001B[0;32mif\u001B[0m \u001B[0mlen\u001B[0m\u001B[0;34m(\u001B[0m\u001B[0mdata\u001B[0m\u001B[0;34m)\u001B[0m \u001B[0;34m!=\u001B[0m \u001B[0mlen\u001B[0m\u001B[0;34m(\u001B[0m\u001B[0mindex\u001B[0m\u001B[0;34m)\u001B[0m\u001B[0;34m:\u001B[0m\u001B[0;34m\u001B[0m\u001B[0;34m\u001B[0m\u001B[0m\n\u001B[0;32m--> 531\u001B[0;31m         raise ValueError(\n\u001B[0m\u001B[1;32m    532\u001B[0m             \u001B[0;34m\"Length of values \"\u001B[0m\u001B[0;34m\u001B[0m\u001B[0;34m\u001B[0m\u001B[0m\n\u001B[1;32m    533\u001B[0m             \u001B[0;34mf\"({len(data)}) \"\u001B[0m\u001B[0;34m\u001B[0m\u001B[0;34m\u001B[0m\u001B[0m\n",
      "\u001B[0;31mValueError\u001B[0m: Length of values (593) does not match length of index (31023)"
     ]
    }
   ],
   "source": [
    "#df[\"PLACE_OF_WORK_CODE\"].value_counts()\n",
    "\n"
   ],
   "metadata": {
    "collapsed": false,
    "pycharm": {
     "name": "#%%\n"
    }
   }
  }
 ],
 "metadata": {
  "kernelspec": {
   "display_name": "Python 3",
   "language": "python",
   "name": "python3"
  },
  "language_info": {
   "codemirror_mode": {
    "name": "ipython",
    "version": 2
   },
   "file_extension": ".py",
   "mimetype": "text/x-python",
   "name": "python",
   "nbconvert_exporter": "python",
   "pygments_lexer": "ipython2",
   "version": "2.7.6"
  }
 },
 "nbformat": 4,
 "nbformat_minor": 0
}